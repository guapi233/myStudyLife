{
 "cells": [
  {
   "cell_type": "markdown",
   "metadata": {},
   "source": [
    "# 函数\n",
    "\n",
    "任何一个编程语言\n",
    "\n",
    "1. 英语，背单词\n",
    "2. 函数，记得多，会用的多，编程速度快 \n",
    "\n",
    "PHP 是世界上最好的语言，因为函数多，别人造好的轮子的多，只负责滚  400多个  1000 多个函数\n",
    "\n",
    "PHP手册，看着背函数  \n",
    "\n",
    "\n",
    "Python里面也有大量的【内置】函数\n",
    "\n",
    "曾经写过的代码，拿过来重新使用，不用在重写了。\n",
    "\n",
    "封装一个函数\n",
    "\n",
    "面向对象(三大特征) --  封装，继承，多态\n",
    "\n",
    "大二第三个月讲(70%倒下了)\n",
    "\n",
    "- 函数的调用 \n",
    "请参阅附录二()\n",
    "- 附录二\n",
    "就是函数的内部实现(代码)\n",
    "\n",
    "\n",
    "## 函数的定义\n",
    "\n",
    "def FunName():\n",
    "    pass \n",
    "\n",
    "## 函数的调用\n",
    "\n",
    "FunName()\n",
    "\n",
    "### 备注\n",
    "\n",
    "函数的声明要在调用的上面。\n",
    "\n",
    "## Pycharm的调试\n",
    "\n",
    "Python经常是玄学代码\n",
    "\n",
    "熟练的使用调试是初级程序猿和菜菜的区别\n",
    "\n",
    "\n",
    "函数不调用是不执行\n",
    "\n",
    "F7(into 进入)和F8 (over 越过)功能  \n",
    "\n",
    "但是只能进入你自己写的\n",
    "\n",
    "\n",
    "\n"
   ]
  },
  {
   "cell_type": "code",
   "execution_count": 2,
   "metadata": {},
   "outputs": [
    {
     "name": "stdout",
     "output_type": "stream",
     "text": [
      "ha\n"
     ]
    }
   ],
   "source": [
    "def MyName():\n",
    "    print(\"ha\")\n",
    "    \n",
    "MyName()"
   ]
  },
  {
   "cell_type": "markdown",
   "metadata": {},
   "source": [
    "# return语句\n",
    "\n",
    "要求，任意的函数都应该有返回语句\n",
    "\n",
    "None  占位\n",
    "\n",
    "返回一个值\n",
    "\n",
    "返回多个值  (tuple 元组)\n"
   ]
  },
  {
   "cell_type": "code",
   "execution_count": 10,
   "metadata": {},
   "outputs": [
    {
     "name": "stdout",
     "output_type": "stream",
     "text": [
      "ha\n",
      "2\n"
     ]
    }
   ],
   "source": [
    "def MyName():\n",
    "    print(\"ha\")\n",
    "    return 1,2\n",
    "    \n",
    "a,b = MyName()  # python独特的写法  js \n",
    "# print(type(a))\n",
    "print(b)"
   ]
  },
  {
   "cell_type": "code",
   "execution_count": 11,
   "metadata": {},
   "outputs": [
    {
     "name": "stdout",
     "output_type": "stream",
     "text": [
      "nihao\n",
      "wohao\n"
     ]
    }
   ],
   "source": [
    "# 函数的嵌套调用\n",
    "def p():\n",
    "    print(\"nihao\")\n",
    "    \n",
    "def pp():\n",
    "    p()  # 调用另一个函数  \n",
    "    print(\"wohao\")\n",
    "pp()"
   ]
  },
  {
   "cell_type": "markdown",
   "metadata": {},
   "source": [
    "# 函数的参数\n",
    "\n",
    "- 形参  形式参数\n",
    "- 实参  实际参数  \n",
    "- 在函数定义的时候，参数还没有具体的值，他主要的作用是占据位置，这个就是形参\n",
    "- 函数调用的时候，参数有了具体的值，也就有了具体的函数，此时，叫做实参\n",
    "\n",
    "\n"
   ]
  },
  {
   "cell_type": "code",
   "execution_count": 17,
   "metadata": {},
   "outputs": [
    {
     "name": "stdout",
     "output_type": "stream",
     "text": [
      "***************************************************\n"
     ]
    }
   ],
   "source": [
    "# 打印一条直线\n",
    "# print(\"-\"*50)\n",
    "# 打印2条\n",
    "# print(\"-\"*50)\n",
    "# print(\"-\"*50)\n",
    "# 打印100条\n",
    "\n",
    "    \n",
    "# 你要给一个函数\n",
    "# def hua_zhixian():\n",
    "#     print(\"-\"*50)\n",
    "\n",
    "    \n",
    "# hua_zhixian()\n",
    "\n",
    "# 老板跟菜鸟说，我要50个星星\n",
    "\n",
    "def hua_zhixian(char,num):\n",
    "    # 比较难的代码  do something 比如，你去调用一个天气预报的API  \n",
    "    print(char*num)\n",
    "    \n",
    "hua_zhixian(\"*\",51)\n",
    "\n",
    "\n",
    "# 老板要51分星星 \n",
    "\n",
    "\n",
    "# 函数的封装\n",
    "\n",
    "# get_tianqi()  \n"
   ]
  },
  {
   "cell_type": "code",
   "execution_count": 22,
   "metadata": {},
   "outputs": [
    {
     "name": "stdout",
     "output_type": "stream",
     "text": [
      "张迪吃面条\n"
     ]
    }
   ],
   "source": [
    "# 关键字参数 \n",
    "# 发生的位置，在实参的位置\n",
    "\n",
    "def eat(name,food):\n",
    "    print(\"%s吃%s\" % (name,food))\n",
    "    \n",
    "eat(food = \"面条\",name = \"张迪\")"
   ]
  },
  {
   "cell_type": "code",
   "execution_count": 30,
   "metadata": {},
   "outputs": [
    {
     "name": "stdout",
     "output_type": "stream",
     "text": [
      "张迪吃都能\n"
     ]
    }
   ],
   "source": [
    "# 默认参数 \n",
    "# 发生的位置，在形参的位置\n",
    "# 默认参数必须出现在一般的参数的后面 \n",
    "\n",
    "def eat(name,age=20,food = \"包子\"):\n",
    "    print(\"%s吃%s\" % (name,food))\n",
    "    \n",
    "eat( \"张迪\",20,\"都能\")"
   ]
  }
 ],
 "metadata": {
  "kernelspec": {
   "display_name": "Python 3",
   "language": "python",
   "name": "python3"
  },
  "language_info": {
   "codemirror_mode": {
    "name": "ipython",
    "version": 3
   },
   "file_extension": ".py",
   "mimetype": "text/x-python",
   "name": "python",
   "nbconvert_exporter": "python",
   "pygments_lexer": "ipython3",
   "version": "3.6.5"
  }
 },
 "nbformat": 4,
 "nbformat_minor": 2
}
