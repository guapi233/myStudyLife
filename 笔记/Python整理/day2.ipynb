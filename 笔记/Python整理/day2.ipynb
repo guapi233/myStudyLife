{
 "cells": [
  {
   "cell_type": "markdown",
   "metadata": {},
   "source": [
    "# 字符串\n",
    "\n",
    "字符串类型的变量\n",
    "\n",
    "a = \"我爱北京天安门\"  \n",
    "a = '我爱北京天安门'  \n",
    "### 三引号 \n",
    "a = ''' 我爱北京天安门 '''\n",
    "a = \"\"\"三个引号\"\"\"\n",
    "\n",
    "** 具备一个多行注释的功能  \n",
    "\n",
    "python 注释  #  \n",
    "多行  \"\"\"注释内容\"\"\"\n",
    "\n",
    "创始人，希望天下所有的Python格式一致"
   ]
  },
  {
   "cell_type": "code",
   "execution_count": 3,
   "metadata": {},
   "outputs": [
    {
     "name": "stdout",
     "output_type": "stream",
     "text": [
      "我爱北京\n"
     ]
    }
   ],
   "source": [
    "# 双引号\n",
    "a = \"我爱北京\"\n",
    "print(a)"
   ]
  },
  {
   "cell_type": "code",
   "execution_count": 4,
   "metadata": {},
   "outputs": [
    {
     "name": "stdout",
     "output_type": "stream",
     "text": [
      "我爱北京\n"
     ]
    }
   ],
   "source": [
    "# 单引号\n",
    "a = '我爱北京'\n",
    "print(a)"
   ]
  },
  {
   "cell_type": "code",
   "execution_count": 5,
   "metadata": {},
   "outputs": [
    {
     "name": "stdout",
     "output_type": "stream",
     "text": [
      "我爱北京天安门\n"
     ]
    }
   ],
   "source": [
    "# 三引号\n",
    "a = '''我爱北京天安门'''\n",
    "b = \"\"\"我爱北京天安门\"\"\"\n",
    "print(a)"
   ]
  },
  {
   "cell_type": "code",
   "execution_count": 6,
   "metadata": {},
   "outputs": [
    {
     "name": "stdout",
     "output_type": "stream",
     "text": [
      "\n",
      "\n",
      "我爱北京\n",
      "我爱天安门\n",
      "啊~\n",
      "\n",
      "\n"
     ]
    }
   ],
   "source": [
    "# 多行字符串\n",
    "a = '''\n",
    "\n",
    "我爱北京\n",
    "我爱天安门\n",
    "啊~\n",
    "\n",
    "'''\n",
    "\n",
    "print(a)"
   ]
  },
  {
   "cell_type": "code",
   "execution_count": 9,
   "metadata": {},
   "outputs": [
    {
     "ename": "SyntaxError",
     "evalue": "EOL while scanning string literal (<ipython-input-9-75dafad8fe79>, line 2)",
     "output_type": "error",
     "traceback": [
      "\u001b[1;36m  File \u001b[1;32m\"<ipython-input-9-75dafad8fe79>\"\u001b[1;36m, line \u001b[1;32m2\u001b[0m\n\u001b[1;33m    a = '我爱北京\u001b[0m\n\u001b[1;37m             ^\u001b[0m\n\u001b[1;31mSyntaxError\u001b[0m\u001b[1;31m:\u001b[0m EOL while scanning string literal\n"
     ]
    }
   ],
   "source": [
    "# 单引号实现\n",
    "a = '我爱北京\n",
    "我爱天门'\n",
    "print(a)"
   ]
  },
  {
   "cell_type": "code",
   "execution_count": 10,
   "metadata": {},
   "outputs": [
    {
     "name": "stdout",
     "output_type": "stream",
     "text": [
      "aaaa\n"
     ]
    }
   ],
   "source": [
    "\"\"\"\n",
    "这是多行注释\n",
    "\n",
    "\"\"\"\n",
    "print(\"aaaa\")"
   ]
  },
  {
   "cell_type": "code",
   "execution_count": 21,
   "metadata": {},
   "outputs": [
    {
     "name": "stdout",
     "output_type": "stream",
     "text": [
      "let's go \n",
      " \t \\ my girl\n"
     ]
    }
   ],
   "source": [
    "print('let\\'s go \\n \\t \\\\ my girl')   # 不同级别的引号嵌套关系  双引号可以嵌套单引号，单引号可以嵌套双引号 "
   ]
  },
  {
   "cell_type": "markdown",
   "metadata": {},
   "source": [
    "## 转移字符 \n",
    "\n",
    "常见的转移符号  \\n 换行 \\t tab  \\a 响铃  \\'  \\\"  \\\\  斜杠，为了统一格式\n",
    "\n",
    "并不是很常用"
   ]
  },
  {
   "cell_type": "markdown",
   "metadata": {},
   "source": [
    "# 字符串API\n",
    "\n",
    "API (ApplicationProgrammingInterface) API到底是干什么的？  \n",
    "  \n",
    "现在这个社会，如果让包子去造一个汽车，造轮子(重复开发)相同功能的模块。   不要重复造轮子  \n",
    "\n",
    "螺丝扣，规格是一样的。\n",
    "\n",
    "安卓手机的充电线\n",
    "\n",
    "\n",
    "\n",
    "- 拿着一把到热带雨林割橡胶。\n",
    "- 直接买轮子，直接发动机，组件，然后合并起来。\n",
    "\n",
    "\n",
    "如果我想要实现一个功能 ---  功能获取字符串以什么什么开头？  "
   ]
  },
  {
   "cell_type": "markdown",
   "metadata": {},
   "source": [
    "## 一般函数\n",
    "## 1. startswith/endswith\n",
    "\n",
    "相面  判断一个字符串是否以函数内容开头或者结尾\n",
    "\n",
    "\n"
   ]
  },
  {
   "cell_type": "code",
   "execution_count": 28,
   "metadata": {},
   "outputs": [
    {
     "data": {
      "text/plain": [
       "True"
      ]
     },
     "execution_count": 28,
     "metadata": {},
     "output_type": "execute_result"
    }
   ],
   "source": [
    "a = \"I love china\"\n",
    "#  a.startswith(\"i\") \n",
    "a.endswith(\"china\")"
   ]
  },
  {
   "cell_type": "markdown",
   "metadata": {},
   "source": [
    "## 2. count\n",
    "\n",
    "统计一个子字符串在父字符串中出现的次数\n"
   ]
  },
  {
   "cell_type": "code",
   "execution_count": 32,
   "metadata": {},
   "outputs": [
    {
     "data": {
      "text/plain": [
       "0"
      ]
     },
     "execution_count": 32,
     "metadata": {},
     "output_type": "execute_result"
    }
   ],
   "source": [
    "a = \"aaa bbb ccc ddd fffffffa\"\n",
    "a.count(\"bbba\")  # 尝试一下中文"
   ]
  },
  {
   "cell_type": "markdown",
   "metadata": {},
   "source": [
    "## 3. find\n",
    "\n",
    "查找  find(\"子串\"),查找字符串第一次出现的位置,他有两种值，第一种是自然数，查找不到的时候，都是-1"
   ]
  },
  {
   "cell_type": "code",
   "execution_count": 40,
   "metadata": {},
   "outputs": [
    {
     "name": "stdout",
     "output_type": "stream",
     "text": [
      "找到了\n"
     ]
    }
   ],
   "source": [
    "a = \"aloveasasa\"   # 字符串其实是一个字符数组，数组的索引是从0\n",
    "if a.find(\"a\") == -1:\n",
    "    print(\"查找不到\")\n",
    "else:\n",
    "    print(\"找到了\")"
   ]
  },
  {
   "cell_type": "markdown",
   "metadata": {},
   "source": [
    "## 判断函数\n",
    "\n",
    "## 1. islower/isupper \n",
    "\n",
    "判断一个字符串全部是大写还是小写"
   ]
  },
  {
   "cell_type": "code",
   "execution_count": 42,
   "metadata": {},
   "outputs": [
    {
     "data": {
      "text/plain": [
       "False"
      ]
     },
     "execution_count": 42,
     "metadata": {},
     "output_type": "execute_result"
    }
   ],
   "source": [
    "a = \"i like low A\"\n",
    "a.islower()"
   ]
  },
  {
   "cell_type": "code",
   "execution_count": 44,
   "metadata": {},
   "outputs": [
    {
     "data": {
      "text/plain": [
       "True"
      ]
     },
     "execution_count": 44,
     "metadata": {},
     "output_type": "execute_result"
    }
   ],
   "source": [
    "a = \"MY NAME\"\n",
    "a.isupper()"
   ]
  },
  {
   "cell_type": "markdown",
   "metadata": {},
   "source": [
    "## 2.isdigit\n",
    "\n",
    "判断一个字符串全部是数字\n",
    "\n"
   ]
  },
  {
   "cell_type": "code",
   "execution_count": 46,
   "metadata": {},
   "outputs": [
    {
     "data": {
      "text/plain": [
       "True"
      ]
     },
     "execution_count": 46,
     "metadata": {},
     "output_type": "execute_result"
    }
   ],
   "source": [
    "a = \"12345677\"\n",
    "a.isdigit()   # 判断用户输入的手机号  "
   ]
  },
  {
   "cell_type": "markdown",
   "metadata": {},
   "source": [
    "## 3. isalpha\n",
    "\n",
    "判断字符串是否全部是字母\n",
    "\n",
    "\n",
    "\n"
   ]
  },
  {
   "cell_type": "code",
   "execution_count": 48,
   "metadata": {},
   "outputs": [
    {
     "data": {
      "text/plain": [
       "True"
      ]
     },
     "execution_count": 48,
     "metadata": {},
     "output_type": "execute_result"
    }
   ],
   "source": [
    "a = \"AASasdasdsadas\"\n",
    "a.isalpha()  "
   ]
  },
  {
   "cell_type": "markdown",
   "metadata": {},
   "source": [
    "## 操作函数\n",
    "\n",
    "## 1. lower/upper\n",
    "\n",
    "把一个字符串变大变小\n"
   ]
  },
  {
   "cell_type": "code",
   "execution_count": 50,
   "metadata": {},
   "outputs": [
    {
     "data": {
      "text/plain": [
       "'WANG DE'"
      ]
     },
     "execution_count": 50,
     "metadata": {},
     "output_type": "execute_result"
    }
   ],
   "source": [
    "a = \"Wang DE\"\n",
    "a.upper()"
   ]
  },
  {
   "cell_type": "code",
   "execution_count": 51,
   "metadata": {},
   "outputs": [
    {
     "data": {
      "text/plain": [
       "'ask my book'"
      ]
     },
     "execution_count": 51,
     "metadata": {},
     "output_type": "execute_result"
    }
   ],
   "source": [
    "a = \"ASK MY BOOK\" \n",
    "a.lower()"
   ]
  },
  {
   "cell_type": "markdown",
   "metadata": {},
   "source": [
    "## 2. strip/lstrip/rstrip\n",
    "\n",
    "去掉字符串左右的空格\n"
   ]
  },
  {
   "cell_type": "code",
   "execution_count": 55,
   "metadata": {},
   "outputs": [
    {
     "data": {
      "text/plain": [
       "'   i love xiaowu'"
      ]
     },
     "execution_count": 55,
     "metadata": {},
     "output_type": "execute_result"
    }
   ],
   "source": [
    "a = \"   i love xiaowu   \"\n",
    "a.rstrip()"
   ]
  },
  {
   "cell_type": "markdown",
   "metadata": {},
   "source": [
    "## 3. swapcase\n",
    "\n",
    "交换大小写\n"
   ]
  },
  {
   "cell_type": "code",
   "execution_count": 56,
   "metadata": {},
   "outputs": [
    {
     "data": {
      "text/plain": [
       "'I love O'"
      ]
     },
     "execution_count": 56,
     "metadata": {},
     "output_type": "execute_result"
    }
   ],
   "source": [
    "a = \"i LOVE o\"\n",
    "a.swapcase()"
   ]
  },
  {
   "cell_type": "markdown",
   "metadata": {},
   "source": [
    "## 序列，元组，字典 后面讲解"
   ]
  },
  {
   "cell_type": "code",
   "execution_count": 58,
   "metadata": {},
   "outputs": [
    {
     "ename": "SyntaxError",
     "evalue": "invalid character in identifier (<ipython-input-58-09afbd1d295a>, line 3)",
     "output_type": "error",
     "traceback": [
      "\u001b[1;36m  File \u001b[1;32m\"<ipython-input-58-09afbd1d295a>\"\u001b[1;36m, line \u001b[1;32m3\u001b[0m\n\u001b[1;33m    百度关键字，Python操作字符串函数\u001b[0m\n\u001b[1;37m                      ^\u001b[0m\n\u001b[1;31mSyntaxError\u001b[0m\u001b[1;31m:\u001b[0m invalid character in identifier\n"
     ]
    }
   ],
   "source": [
    "a = \"xxxx\"\n",
    "\n",
    "百度关键字，Python操作字符串函数\n",
    "\n",
    "s.tab键  查看字符串所有的API(函数)"
   ]
  },
  {
   "cell_type": "markdown",
   "metadata": {},
   "source": [
    "# 字符串格式化\n",
    "\n",
    "## 字符串格式化有2种方式\n",
    "### 第一种是用  % 内容格式\n",
    "\n",
    "各种不同类型的占位符\n",
    "\n",
    "1.\t%s：字符串\n",
    "2.\t%r: 字符串，但是是使用repr而不是str\n",
    "3.\t%c: 整数转换为单个字符\n",
    "4.\t%d: 十进制整数\n",
    "5.\t%u: 无符号整数\n",
    "6.\t%o: 八进制\n",
    "7.\t%x: 十六进制\n",
    "8.\t%X: 十六进制(X为大写)\n",
    "9.\t%e: 浮点数e小写\n",
    "10.\t%E: 浮点数E大写\n",
    "11.\t格式字符前面出现整数，表示占位符所占位置的宽度\n",
    "12.\t格式字符前面出现-左对齐，+右对其，0位数用0补齐\n",
    "\n",
    "重点，记住一句话  实际开发 一般只需要用 %s %d %f 就可以了\n",
    "\n",
    "\n",
    "### 第二种用format格式 \n",
    "\n",
    "后面讲"
   ]
  },
  {
   "cell_type": "code",
   "execution_count": 90,
   "metadata": {},
   "outputs": [
    {
     "name": "stdout",
     "output_type": "stream",
     "text": [
      "我是       zzh，我喜欢贪玩蓝月，我今年29.12222岁\n"
     ]
    }
   ],
   "source": [
    "a = \"我是%10s，我喜欢贪玩蓝月，我今年%s岁\" % (\"zzh\",29.12222) # %s 其实叫做占位符\n",
    "# 占位符，大量的使用在格式化字符串操作中。\n",
    "print(a)"
   ]
  },
  {
   "cell_type": "markdown",
   "metadata": {},
   "source": [
    "# 布尔变量\n",
    "\n",
    "True和False \n",
    "\n"
   ]
  },
  {
   "cell_type": "code",
   "execution_count": 93,
   "metadata": {},
   "outputs": [
    {
     "data": {
      "text/plain": [
       "False"
      ]
     },
     "execution_count": 93,
     "metadata": {},
     "output_type": "execute_result"
    }
   ],
   "source": [
    "4 > 5 # 表达式\n",
    "# if 语句"
   ]
  },
  {
   "cell_type": "code",
   "execution_count": 101,
   "metadata": {
    "scrolled": true
   },
   "outputs": [
    {
     "name": "stdout",
     "output_type": "stream",
     "text": [
      "nihao\n"
     ]
    }
   ],
   "source": [
    "True + 5   # True和一个整数进行计算的时候，被当成1   \n",
    "\n",
    "# 任何一个非0的数字，都是Ture，0是False \n",
    "\n",
    "if 32:\n",
    "    print(\"hhaha\")\n",
    "else:\n",
    "    print(\"nihao\")"
   ]
  },
  {
   "cell_type": "markdown",
   "metadata": {},
   "source": [
    "# None\n",
    "\n",
    "空值\n",
    "\n",
    "## 当你不知道是什么值或者类型的时候，还想占个位置\n",
    "\n",
    "## 相当啥都没干\n",
    "\n",
    "a = \"某一变量\"\n",
    "\n",
    "\n",
    "... \n",
    "\n",
    "... \n",
    "\n",
    "\n",
    "a = None \n",
    "\n",
    "\n"
   ]
  },
  {
   "cell_type": "code",
   "execution_count": 106,
   "metadata": {},
   "outputs": [],
   "source": [
    "ccc  = \"\"  # 空字符相当于在内存中，开辟了一个空间，只是没放东西\n",
    "a = None "
   ]
  },
  {
   "cell_type": "markdown",
   "metadata": {},
   "source": [
    "## 错误解释\n",
    "\n",
    "一个能分析错误的程序员他可能比一个普通程序员多拿2K薪水\n",
    "\n",
    "SyntaxError(语法错误): EOL(结尾) while scanning string literal"
   ]
  },
  {
   "cell_type": "markdown",
   "metadata": {},
   "source": [
    "# 练习\n",
    "\n",
    "1. 实现一个小猪佩奇\n",
    "2. 小乌龟模块  turtle \n",
    "3. 背过课上出现的单词"
   ]
  }
 ],
 "metadata": {
  "kernelspec": {
   "display_name": "Python 3",
   "language": "python",
   "name": "python3"
  },
  "language_info": {
   "codemirror_mode": {
    "name": "ipython",
    "version": 3
   },
   "file_extension": ".py",
   "mimetype": "text/x-python",
   "name": "python",
   "nbconvert_exporter": "python",
   "pygments_lexer": "ipython3",
   "version": "3.6.5"
  }
 },
 "nbformat": 4,
 "nbformat_minor": 2
}
