{
 "cells": [
  {
   "cell_type": "markdown",
   "metadata": {},
   "source": [
    "## 循环结构\n",
    "\n",
    "三大结构 ，顺序，分支，循环\n",
    "\n",
    "- for 循环\n",
    "- while 循环\n",
    "\n",
    "###  for 循环\n",
    "\n",
    "知道循环的次数  \n",
    "\n",
    "#### 补充一些扩展知识\n",
    "\n",
    "1. list  \n",
    "\n",
    "序列(列表)   其他语言叫数(据)组 \n",
    "\n",
    "有序的列表\n",
    "\n",
    "L1 = [1,2,3,4,5,6]   #  下标  \n",
    "\n",
    "在所有的编程语言中，序号 0，或者程序数数都是从0开始，自然界是从1开始\n",
    "\n",
    "for 语句  \n",
    "\n",
    "语法 \n",
    "\n",
    "    for item in 序列:\n",
    "        do something\n",
    "        \n",
    "2. range\n",
    "    动态生成一个列表\n",
    "    range(start,end,step)   # start 开始  end 结束，step，步长\n",
    "    \n",
    "###  while循环\n",
    "\n",
    "不知道循环次数的循环\n",
    "\n",
    "你现在10000元\n",
    "那么你存到银行 4%\n",
    "那么**几年**之后你将有13000  \n",
    "     "
   ]
  },
  {
   "cell_type": "code",
   "execution_count": 4,
   "metadata": {},
   "outputs": [
    {
     "name": "stdout",
     "output_type": "stream",
     "text": [
      "hello world\n",
      "hello world\n",
      "hello world\n",
      "hello world\n",
      "hello world\n",
      "hello world\n",
      "hello world\n",
      "hello world\n",
      "hello world\n",
      "hello world\n"
     ]
    }
   ],
   "source": [
    "# 打印10句话  hello world\n",
    "# DRY  don't repeat yourself   重复造轮子 \n",
    "# 声明一个变量，代表循环次数\n",
    "index = 1\n",
    "while(index<=10):\n",
    "    print(\"hello world\")\n",
    "    # 次数必须要修改\n",
    "    index+=1  #赋值运算符  "
   ]
  },
  {
   "cell_type": "code",
   "execution_count": 5,
   "metadata": {
    "scrolled": true
   },
   "outputs": [
    {
     "name": "stdout",
     "output_type": "stream",
     "text": [
      "1\n",
      "2\n",
      "3\n",
      "4\n",
      "5\n",
      "7\n"
     ]
    }
   ],
   "source": [
    "l1 = [1,2,3,4,5,7]\n",
    "for i in l1:  # l1一定是一个数据组合\n",
    "    print(i)"
   ]
  },
  {
   "cell_type": "code",
   "execution_count": 8,
   "metadata": {},
   "outputs": [
    {
     "name": "stdout",
     "output_type": "stream",
     "text": [
      "range(1, 5, 2)\n"
     ]
    }
   ],
   "source": [
    "ls = range(1,5,2)  # [1,2,3,4]   # [1,3]  \n",
    "print(ls)"
   ]
  },
  {
   "cell_type": "code",
   "execution_count": 10,
   "metadata": {
    "scrolled": true
   },
   "outputs": [
    {
     "name": "stdout",
     "output_type": "stream",
     "text": [
      "1\n",
      "2\n",
      "3\n",
      "4\n"
     ]
    }
   ],
   "source": [
    "ls = range(1,5)   # 生成一个1~100的序列，计算1~100的和\n",
    "for i in ls:\n",
    "    print(i)"
   ]
  },
  {
   "cell_type": "code",
   "execution_count": 11,
   "metadata": {},
   "outputs": [
    {
     "name": "stdout",
     "output_type": "stream",
     "text": [
      "1~100结果是5050\n"
     ]
    }
   ],
   "source": [
    "#  生成一个1~100的序列，计算1~100的和\n",
    "ls = range(1,101)\n",
    "s = 0 \n",
    "for i in ls:\n",
    "    s += i\n",
    "\n",
    "print(\"1~100结果是%d\" % s)\n",
    "\n",
    "# js  区别\n",
    "\n",
    "#  for(var i=0;i<=100;i++){}\n",
    "    "
   ]
  },
  {
   "cell_type": "code",
   "execution_count": 16,
   "metadata": {
    "scrolled": true
   },
   "outputs": [
    {
     "name": "stdout",
     "output_type": "stream",
     "text": [
      "10000\n",
      "10700.0\n",
      "11449.0\n",
      "12250.43\n",
      "4年后，我的钱就超过13000元了\n"
     ]
    }
   ],
   "source": [
    "yourMoney = 10000\n",
    "# 需要几年\n",
    "year = 0\n",
    "while(yourMoney<=13000):\n",
    "    # 每年银行给你4% \n",
    "    print(yourMoney)\n",
    "    yourMoney +=  yourMoney*0.07   # 本金叠加计算利息  \n",
    "    year+=1\n",
    "    \n",
    "print(\"%d年后，我的钱就超过13000元了\" % year)"
   ]
  },
  {
   "cell_type": "code",
   "execution_count": 21,
   "metadata": {},
   "outputs": [
    {
     "name": "stdout",
     "output_type": "stream",
     "text": [
      "1\n",
      "2\n",
      "3\n",
      "4\n"
     ]
    }
   ],
   "source": [
    "nums = range(1,11)\n",
    "for num in  nums:\n",
    "    # break语句，终止本次循环\n",
    "    if num  == 5 :\n",
    "        break\n",
    "    print(num)"
   ]
  },
  {
   "cell_type": "code",
   "execution_count": 20,
   "metadata": {
    "scrolled": true
   },
   "outputs": [
    {
     "name": "stdout",
     "output_type": "stream",
     "text": [
      "1\n",
      "2\n",
      "3\n",
      "4\n",
      "6\n",
      "7\n",
      "8\n",
      "9\n",
      "10\n"
     ]
    }
   ],
   "source": [
    "nums = range(1,11)\n",
    "for num in  nums:\n",
    "    # continue语句，终止本次循环，进入下一次循环\n",
    "    # 有时候，你的爬虫在循环的时候回报错  当报错时候，一般就停了  \n",
    "    # try:except \n",
    "    # 你在报错的循环里面，使用continue 进入到下一次循环，防止爬虫宕掉。\n",
    "    \n",
    "    if num == 5 :\n",
    "        continue\n",
    "    print(num)"
   ]
  },
  {
   "cell_type": "code",
   "execution_count": 28,
   "metadata": {},
   "outputs": [
    {
     "name": "stdout",
     "output_type": "stream",
     "text": [
      "*\n",
      "**\n",
      "***\n",
      "****\n",
      "*****\n",
      "hello&&hello\n"
     ]
    }
   ],
   "source": [
    "# 打印小星星\n",
    "# 需求，一行打印一个，两行打印2个\n",
    "for i in range(1,6):\n",
    "    # Python支持字符串*\n",
    "    print(\"*\"*i)\n",
    "    \n",
    "print(\"hello\",end=\"&&\")  # print默认后面其实带一个换行  end\n",
    "print(\"hello\")"
   ]
  },
  {
   "cell_type": "code",
   "execution_count": 37,
   "metadata": {},
   "outputs": [
    {
     "name": "stdout",
     "output_type": "stream",
     "text": [
      "1 * 1 = 1\t\n",
      "1 * 2 = 2\t2 * 2 = 4\t\n",
      "1 * 3 = 3\t2 * 3 = 6\t3 * 3 = 9\t\n",
      "1 * 4 = 4\t2 * 4 = 8\t3 * 4 = 12\t4 * 4 = 16\t\n",
      "1 * 5 = 5\t2 * 5 = 10\t3 * 5 = 15\t4 * 5 = 20\t5 * 5 = 25\t\n",
      "1 * 6 = 6\t2 * 6 = 12\t3 * 6 = 18\t4 * 6 = 24\t5 * 6 = 30\t6 * 6 = 36\t\n",
      "1 * 7 = 7\t2 * 7 = 14\t3 * 7 = 21\t4 * 7 = 28\t5 * 7 = 35\t6 * 7 = 42\t7 * 7 = 49\t\n",
      "1 * 8 = 8\t2 * 8 = 16\t3 * 8 = 24\t4 * 8 = 32\t5 * 8 = 40\t6 * 8 = 48\t7 * 8 = 56\t8 * 8 = 64\t\n",
      "1 * 9 = 9\t2 * 9 = 18\t3 * 9 = 27\t4 * 9 = 36\t5 * 9 = 45\t6 * 9 = 54\t7 * 9 = 63\t8 * 9 = 72\t9 * 9 = 81\t\n"
     ]
    }
   ],
   "source": [
    "# 打印九九乘法表\n",
    "\n",
    "for col in range(1,10):\n",
    "    for row in range(1,col+1):\n",
    "        print(\"%d * %d = %d\" % (row,col,col*row),end=\"\\t\") \n",
    "    print(\"\")\n",
    "\n",
    "# 研究一下  while 打印出来  \n",
    "\n"
   ]
  }
 ],
 "metadata": {
  "kernelspec": {
   "display_name": "Python 3",
   "language": "python",
   "name": "python3"
  },
  "language_info": {
   "codemirror_mode": {
    "name": "ipython",
    "version": 3
   },
   "file_extension": ".py",
   "mimetype": "text/x-python",
   "name": "python",
   "nbconvert_exporter": "python",
   "pygments_lexer": "ipython3",
   "version": "3.6.5"
  }
 },
 "nbformat": 4,
 "nbformat_minor": 2
}
