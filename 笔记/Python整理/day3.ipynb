{
 "cells": [
  {
   "cell_type": "markdown",
   "metadata": {},
   "source": [
    "# 运算符\n",
    "\n",
    "连接操作数之间符号\n",
    "\n",
    "## 算数运算符 \n",
    "\n",
    "+,-,*,/,%,**（幂运算）,//(地板除)"
   ]
  },
  {
   "cell_type": "code",
   "execution_count": 48,
   "metadata": {},
   "outputs": [
    {
     "data": {
      "text/plain": [
       "0.5"
      ]
     },
     "execution_count": 48,
     "metadata": {},
     "output_type": "execute_result"
    }
   ],
   "source": [
    "1 / 2"
   ]
  },
  {
   "cell_type": "code",
   "execution_count": 8,
   "metadata": {
    "scrolled": false
   },
   "outputs": [
    {
     "name": "stdout",
     "output_type": "stream",
     "text": [
      "0.5\n",
      "1\n"
     ]
    }
   ],
   "source": [
    "# 除法和取余\n",
    "\n",
    "a = 1 / 2\n",
    "b = 10 % 3    # 取余，用来计算整除  判断1~100之间偶数  n % 2 == 0\n",
    "print(a)\n",
    "print(b)"
   ]
  },
  {
   "cell_type": "code",
   "execution_count": 10,
   "metadata": {},
   "outputs": [
    {
     "name": "stdout",
     "output_type": "stream",
     "text": [
      "64\n"
     ]
    }
   ],
   "source": [
    "# 计算2的3次方  2^3\n",
    "a =  4 ** 3\n",
    "print(a)"
   ]
  },
  {
   "cell_type": "code",
   "execution_count": 14,
   "metadata": {},
   "outputs": [
    {
     "name": "stdout",
     "output_type": "stream",
     "text": [
      "2.0\n"
     ]
    }
   ],
   "source": [
    "# 地板除  <取商>\n",
    "a = 4 // 2.0   # 地板除，获取结果的整数部分\n",
    "print(a)"
   ]
  },
  {
   "cell_type": "markdown",
   "metadata": {},
   "source": [
    "## 算数运算符优先级\n",
    "- 先乘除，后加减\n",
    "- 小括号解决一切问题(当你优先级不清楚的时候，用小括号即可)"
   ]
  },
  {
   "cell_type": "code",
   "execution_count": 18,
   "metadata": {},
   "outputs": [
    {
     "name": "stdout",
     "output_type": "stream",
     "text": [
      "-3.4000000000000004\n",
      "计算结果:-3.40\n"
     ]
    }
   ],
   "source": [
    "a = (3 - 2*2**4) / 5\n",
    "b = 32/5\n",
    "print(a)\n",
    "print(\"计算结果:%.2f\" % a)"
   ]
  },
  {
   "cell_type": "markdown",
   "metadata": {},
   "source": [
    "## 练习\n",
    "1. 温度转换（华氏温度，摄氏温度，开氏温度）。\n",
    "2. 摄氏温度：5.0/9.0 X（华氏温度-32）\n",
    "3. 开氏温度：5.0/9.0 X（华氏温度-32）+ 273.15\n",
    "4. 今天摄氏温度37度，求华氏温度和开氏温度\n",
    "5. 审题：\n",
    "    摄氏温度   37 = 5.0/9.0 X（华氏温度-32）==> 37 X 9.0/5.0=华氏温度-32 ==>华氏温度=37 X 9.0/5.0 + 32  \n",
    "    然后把求到的华氏温度带入开氏温度公式，就可以求出开氏温度\n",
    "\n",
    "\n"
   ]
  },
  {
   "cell_type": "code",
   "execution_count": 20,
   "metadata": {
    "scrolled": true
   },
   "outputs": [
    {
     "name": "stdout",
     "output_type": "stream",
     "text": [
      "37°转换成华氏温度是:98.6\n",
      "37°转换成开氏温度是:310.15\n"
     ]
    }
   ],
   "source": [
    "te = 37\n",
    "fah = 37 * 9.0/5.0 +32\n",
    "ko = (fah-32)*5.0/9.0+273.15\n",
    "print(\"37°转换成华氏温度是:%s\" % fah)\n",
    "print(\"37°转换成开氏温度是:%s\" % ko)"
   ]
  },
  {
   "cell_type": "markdown",
   "metadata": {},
   "source": [
    "## 重要点\n",
    "算数运算符需要优先级和%"
   ]
  },
  {
   "cell_type": "markdown",
   "metadata": {},
   "source": [
    "# 赋值运算符\n",
    "\n",
    "a = 1  # 把1赋值给变量a\n",
    "\n",
    "=,+=,-=,*= **= /= //=\n",
    "\n",
    "b = a+1\n"
   ]
  },
  {
   "cell_type": "code",
   "execution_count": 22,
   "metadata": {},
   "outputs": [
    {
     "name": "stdout",
     "output_type": "stream",
     "text": [
      "2\n"
     ]
    }
   ],
   "source": [
    "a = 1 \n",
    "a += 1   # a+=1  a = a+1 \n",
    "print(a)"
   ]
  },
  {
   "cell_type": "code",
   "execution_count": 23,
   "metadata": {},
   "outputs": [
    {
     "name": "stdout",
     "output_type": "stream",
     "text": [
      "1\n",
      "2\n",
      "3\n"
     ]
    }
   ],
   "source": [
    "# 批量赋值\n",
    "a,b,c = 1,2,3\n",
    "print(a)\n",
    "print(b)\n",
    "print(c)"
   ]
  },
  {
   "cell_type": "code",
   "execution_count": 24,
   "metadata": {},
   "outputs": [
    {
     "name": "stdout",
     "output_type": "stream",
     "text": [
      "2\n",
      "1\n"
     ]
    }
   ],
   "source": [
    "# 交换两个的变量的值<要求点>\n",
    "a = 1\n",
    "b = 2\n",
    "# 其他语言的写法\n",
    "# c = a\n",
    "# a = b\n",
    "# b = c\n",
    "a,b = b,a\n",
    "print(a)\n",
    "print(b)"
   ]
  },
  {
   "cell_type": "markdown",
   "metadata": {},
   "source": [
    "## 练习\n",
    "- 半径为r=2.5的圆，求周长和面积\n",
    "- 如果是球，求体积  (4/3)πr^3\n"
   ]
  },
  {
   "cell_type": "code",
   "execution_count": 25,
   "metadata": {},
   "outputs": [
    {
     "name": "stdout",
     "output_type": "stream",
     "text": [
      "15.700000000000001\n",
      "19.625\n"
     ]
    }
   ],
   "source": [
    "# 0.1版本写法  硬编码\n",
    "r = 2.5\n",
    "c = 2 * 3.14 * r\n",
    "s = 3.14 * r**2\n",
    "print(c)\n",
    "print(s)"
   ]
  },
  {
   "cell_type": "code",
   "execution_count": 28,
   "metadata": {},
   "outputs": [
    {
     "name": "stdout",
     "output_type": "stream",
     "text": [
      "15.700000000000001\n",
      "19.625\n",
      "65.41666666666667\n"
     ]
    }
   ],
   "source": [
    "# 02版本写法  拒绝硬编码\n",
    "r = 2.5\n",
    "pi = 3.14\n",
    "c = 2 * pi * r\n",
    "s = pi * r**2\n",
    "v = (4/3)*pi * r**3\n",
    "print(c)  # 记住格式化\n",
    "print(s)\n",
    "print(v)\n"
   ]
  },
  {
   "cell_type": "code",
   "execution_count": null,
   "metadata": {},
   "outputs": [],
   "source": [
    "# 体积公式"
   ]
  },
  {
   "cell_type": "markdown",
   "metadata": {},
   "source": [
    "## 求时间\n",
    "\n",
    "\n",
    "- 从今天的00:00:00起，已经过去了27623秒，求现在是几时几分几秒\n",
    "- 分析：\n",
    "\t- 一个小时是3600s\n",
    "   - 一分钟60s\n",
    "   \n",
    " - 从现在开始，经过XXX时间，是几号~~~\n"
   ]
  },
  {
   "cell_type": "code",
   "execution_count": 33,
   "metadata": {},
   "outputs": [
    {
     "name": "stdout",
     "output_type": "stream",
     "text": [
      "7时40分23秒\n"
     ]
    }
   ],
   "source": [
    "seconds = 27623\n",
    "hour = seconds // 3600   # 得到小时数\n",
    "minsS = seconds % 3600   # 得到剩下的秒数\n",
    "mins = minsS // 60\n",
    "ss = minsS % 60\n",
    "\n",
    "print(\"%d时%d分%d秒\" % (hour,mins,ss))"
   ]
  },
  {
   "cell_type": "markdown",
   "metadata": {},
   "source": [
    "## 比较运算符\n",
    "\n",
    "> < >= <= != ==\n",
    "\n",
    "比较运算符返回的结果是布尔值"
   ]
  },
  {
   "cell_type": "code",
   "execution_count": 34,
   "metadata": {
    "scrolled": true
   },
   "outputs": [
    {
     "data": {
      "text/plain": [
       "True"
      ]
     },
     "execution_count": 34,
     "metadata": {},
     "output_type": "execute_result"
    }
   ],
   "source": [
    "1 < 2"
   ]
  },
  {
   "cell_type": "markdown",
   "metadata": {},
   "source": [
    "## 逻辑运算符\n",
    "\n",
    "### js中，也是其他语言中 && || !\n",
    "\n",
    "或且非  \n",
    "\n",
    "and or not"
   ]
  },
  {
   "cell_type": "code",
   "execution_count": 35,
   "metadata": {},
   "outputs": [
    {
     "data": {
      "text/plain": [
       "True"
      ]
     },
     "execution_count": 35,
     "metadata": {},
     "output_type": "execute_result"
    }
   ],
   "source": [
    "1<2 and 2<3  # 你把and当成*号，然后把true当成1，把false当成0\n",
    "# and 符号，要求两侧必须为true才是true 有一个假就是false  "
   ]
  },
  {
   "cell_type": "code",
   "execution_count": 36,
   "metadata": {},
   "outputs": [
    {
     "data": {
      "text/plain": [
       "False"
      ]
     },
     "execution_count": 36,
     "metadata": {},
     "output_type": "execute_result"
    }
   ],
   "source": [
    "3<=2 and 1>2"
   ]
  },
  {
   "cell_type": "code",
   "execution_count": 37,
   "metadata": {},
   "outputs": [
    {
     "data": {
      "text/plain": [
       "True"
      ]
     },
     "execution_count": 37,
     "metadata": {},
     "output_type": "execute_result"
    }
   ],
   "source": [
    "# or运算符\n",
    "1< 2 or 2>1   # 你把and当成+号，然后把true当成1，把false当成0\n",
    "# or 符号，要求两侧有一个为true才是true "
   ]
  },
  {
   "cell_type": "code",
   "execution_count": 40,
   "metadata": {},
   "outputs": [
    {
     "data": {
      "text/plain": [
       "True"
      ]
     },
     "execution_count": 40,
     "metadata": {},
     "output_type": "execute_result"
    }
   ],
   "source": [
    "not 1<0"
   ]
  },
  {
   "cell_type": "markdown",
   "metadata": {},
   "source": [
    "### 逻辑运算符中的短路操作\n",
    "\n",
    "and *  \n",
    "\n",
    "- 1 < 0 and 2>1   # 你们要注意，千万不要在短路的后面写重要代码\n",
    "- 1 > 0 or false  "
   ]
  },
  {
   "cell_type": "markdown",
   "metadata": {},
   "source": [
    "## 特殊运算符\n",
    "邪性运算符\n",
    "\n",
    "- is \n",
    "- is not \n",
    "- del\n",
    "\n",
    "is 要求地址和值都一样   # 是IDE给我们做了特殊的处理  "
   ]
  },
  {
   "cell_type": "code",
   "execution_count": 45,
   "metadata": {},
   "outputs": [
    {
     "name": "stdout",
     "output_type": "stream",
     "text": [
      "1997050404528\n",
      "1997050404080\n"
     ]
    },
    {
     "data": {
      "text/plain": [
       "False"
      ]
     },
     "execution_count": 45,
     "metadata": {},
     "output_type": "execute_result"
    }
   ],
   "source": [
    "a = 2345\n",
    "b = 2345\n",
    "print(id(a))  # id你理解成在内存中编号 \n",
    "print(id(b))\n",
    "a is b"
   ]
  },
  {
   "cell_type": "code",
   "execution_count": 46,
   "metadata": {
    "scrolled": false
   },
   "outputs": [
    {
     "name": "stdout",
     "output_type": "stream",
     "text": [
      "1534422064\n",
      "1534422064\n"
     ]
    },
    {
     "data": {
      "text/plain": [
       "True"
      ]
     },
     "execution_count": 46,
     "metadata": {},
     "output_type": "execute_result"
    }
   ],
   "source": [
    "a = 2 # python会提前预制一些值，-5,270  内存中的位置是一样的\n",
    "b = 2\n",
    "print(id(a))  # id你理解成在内存中编号 \n",
    "print(id(b))\n",
    "a is b "
   ]
  },
  {
   "cell_type": "code",
   "execution_count": 47,
   "metadata": {},
   "outputs": [
    {
     "ename": "NameError",
     "evalue": "name 'aaa' is not defined",
     "output_type": "error",
     "traceback": [
      "\u001b[1;31m---------------------------------------------------------------------------\u001b[0m",
      "\u001b[1;31mNameError\u001b[0m                                 Traceback (most recent call last)",
      "\u001b[1;32m<ipython-input-47-58ad905189ac>\u001b[0m in \u001b[0;36m<module>\u001b[1;34m()\u001b[0m\n\u001b[0;32m      1\u001b[0m \u001b[0maaa\u001b[0m \u001b[1;33m=\u001b[0m \u001b[1;36m123\u001b[0m\u001b[1;33m\u001b[0m\u001b[0m\n\u001b[0;32m      2\u001b[0m \u001b[1;32mdel\u001b[0m \u001b[0maaa\u001b[0m\u001b[1;33m\u001b[0m\u001b[0m\n\u001b[1;32m----> 3\u001b[1;33m \u001b[0maaa\u001b[0m\u001b[1;33m\u001b[0m\u001b[0m\n\u001b[0m",
      "\u001b[1;31mNameError\u001b[0m: name 'aaa' is not defined"
     ]
    }
   ],
   "source": [
    "aaa = 123\n",
    "ccc = aaa + 2\n",
    "# .... ... \n",
    "del aaa  # 内存清理一下，360清除垃圾 ，你即使使用了del，那么原则上，python不是立马删除的，他是放到一个队列中，然后顺序删除\n",
    "aaa"
   ]
  },
  {
   "cell_type": "markdown",
   "metadata": {},
   "source": [
    "## 标准输入和输出\n",
    "- input \n",
    "- print "
   ]
  },
  {
   "cell_type": "code",
   "execution_count": 54,
   "metadata": {},
   "outputs": [
    {
     "name": "stdout",
     "output_type": "stream",
     "text": [
      "请输入你的年纪12\n",
      "你的年纪是：12\n"
     ]
    }
   ],
   "source": [
    "age = int(input(\"请输入你的年纪\"))  # input得到用户的输入是字符串\n",
    "# 需要判断一下这个字符串是不是全部数字  isdigit\n",
    "print(\"你的年纪是：%d\" % age)\n"
   ]
  },
  {
   "cell_type": "markdown",
   "metadata": {},
   "source": [
    "## 程序结构\n",
    "\n",
    "- 所有的编程语言，顺序，分支，循环 \n",
    "\n",
    "- 编程不是一门艺术(独一无二)，工业产品\n",
    "\n",
    "- 2025中国制造  编程(人工智能，大数据，云计算... ...)   儿童编程  编程就是一门技能，和现在的考驾照一样。\n",
    "\n",
    "1. 顺序，从上到下一步一步执行\n",
    "2. 分支，满足条件之后，就执行对应的代码模块\n",
    "3. 循环，满足条件之后，不断的重复执行相同功能的代码块\n",
    "\n",
    "### if 语句\n",
    "\n",
    "语法：\n",
    "\n",
    "    if (条件表达式):\n",
    "        指定代码块\n",
    "\n",
    "\n",
    "Python代码格式化问题 tab还是空格的问题\n",
    "python2.x 时代，tab默认4个空格，tab和空格没有严格要求tab=4个空格   \n",
    "python3.x 时代，tab就是tab 空格就是空格\n",
    "\n",
    "python是仪式感特别强的语言。\n",
    "\n",
    "### pass语句\n",
    "\n",
    "当你不知道干啥的时候，但是代码写了还不想删除，就写pass\n",
    "\n",
    "\n",
    "### if else\n",
    "\n",
    "满足条件就执行if不满足就执行else elif \n",
    "\n",
    "### else对应关系\n",
    "\n",
    "在python这门语言就不存在对应不明确的情况\n",
    "\n",
    "    if(xxx){\n",
    "    if(xxaa){\n",
    "    }\n",
    "    }\n",
    "    else{\n",
    "\n",
    "    }\n",
    "    \n",
    "    \n",
    "SytaxError\n",
    "\n",
    "\n",
    "\n",
    "\n"
   ]
  },
  {
   "cell_type": "code",
   "execution_count": 64,
   "metadata": {},
   "outputs": [
    {
     "name": "stdout",
     "output_type": "stream",
     "text": [
      "xxxx\n"
     ]
    }
   ],
   "source": [
    "if 2 > 1:\n",
    "    # 想要执行一些代码，但是你没有想好\n",
    "    # 插入数据库\n",
    "    # 执行一个网络爬虫\n",
    "    #  。。。。 \n",
    "    pass\n",
    "else:\n",
    "    pass \n",
    "    \n",
    "print(\"xxxx\")\n"
   ]
  },
  {
   "cell_type": "markdown",
   "metadata": {},
   "source": [
    "### 根据成绩给出评分\n",
    "\n",
    "1. 得到90分以上，优秀\n",
    "2. 80分以上，中等\n",
    "3. 70份以上，差"
   ]
  },
  {
   "cell_type": "code",
   "execution_count": 68,
   "metadata": {},
   "outputs": [
    {
     "name": "stdout",
     "output_type": "stream",
     "text": [
      "请输入你的成绩71\n",
      "差\n"
     ]
    }
   ],
   "source": [
    "score = int(input(\"请输入你的成绩\"))\n",
    "if score > 90:\n",
    "    print(\"优秀\")\n",
    "if score > 80 and score<=90:\n",
    "    print(\"中等\")\n",
    "if score > 70 and score<=80:\n",
    "    print(\"差\")"
   ]
  },
  {
   "cell_type": "code",
   "execution_count": 70,
   "metadata": {},
   "outputs": [
    {
     "name": "stdout",
     "output_type": "stream",
     "text": [
      "请输入你的成绩59\n",
      "不及格\n"
     ]
    }
   ],
   "source": [
    "# 如果大于90分，给优秀\n",
    "# 如果小于90分，两种状态，大于60分给及格，小于60分，给不及格\n",
    "\n",
    "score = int(input(\"请输入你的成绩\"))\n",
    "if score > 90:\n",
    "    print(\"优秀\")\n",
    "else:   # 研究一下\n",
    "    if (score>60):\n",
    "        print(\"及格了\")\n",
    "    else:\n",
    "        print(\"不及格\")\n",
    "\n"
   ]
  },
  {
   "cell_type": "markdown",
   "metadata": {},
   "source": [
    "## 小练习\n",
    "\n",
    "模拟上海出租车收费系统\n",
    "   \n",
    "1. 3公里以内，收取基本起步费用13元\n",
    "2. 超过3公里，则2.3/km\n",
    "3. 空驶费，超出15公里，每公里加收单价50%空驶费用，即3.45\n",
    "\n",
    "需求：输入驾驶里程后计算费用\n",
    "\n",
    "\n"
   ]
  },
  {
   "cell_type": "code",
   "execution_count": 75,
   "metadata": {},
   "outputs": [
    {
     "name": "stdout",
     "output_type": "stream",
     "text": [
      "请输入你的里程数：17\n",
      "你的价格是：￥47.50\n"
     ]
    }
   ],
   "source": [
    "km = input(\"请输入你的里程数：\")\n",
    "km = float(km)   # 2.1 浮点数\n",
    "if km <= 3:\n",
    "    print(\"你的费用是13\")\n",
    "\n",
    "if km > 3 and km <=15 :\n",
    "    price = 13 + (km-3) * 2.3\n",
    "    print(\"你的价格是：￥%.2f\" % price)\n",
    "\n",
    "if km >15 :\n",
    "    price = 13 + (15-3) * 2.3 + (km-15) * 3.45\n",
    "    print(\"你的价格是：￥%.2f\" % price)\n",
    "    \n",
    "    "
   ]
  },
  {
   "cell_type": "markdown",
   "metadata": {},
   "source": [
    "## 三元操作符\n",
    "\n",
    "python 压根没有三元运算符,遭到了其他语言的鄙视。\n",
    "\n",
    "guido van\n",
    "\n",
    "元？操作数 \n",
    "\n",
    "+  1+1  二元操作符    -  二元操作符  \n",
    "\n",
    "一元 not  not 1  \n",
    "\n",
    "三元操作符  ? :  \n",
    "\n",
    "\n",
    "\n",
    "\n"
   ]
  },
  {
   "cell_type": "code",
   "execution_count": 78,
   "metadata": {},
   "outputs": [
    {
     "data": {
      "text/plain": [
       "3"
      ]
     },
     "execution_count": 78,
     "metadata": {},
     "output_type": "execute_result"
    }
   ],
   "source": [
    "a = 2 if 1>1 else 3   # 三元运算符  写法    a = 1 if a else b\n",
    "\n",
    "#if 2> 1\n",
    "#    a = 2\n",
    "#else \n",
    "#   a =3\n",
    " \n",
    "a "
   ]
  },
  {
   "cell_type": "markdown",
   "metadata": {},
   "source": [
    "### 练习 \n",
    "\n",
    "练习1 \n",
    "\n",
    "- a,b两个数由用户输入\n",
    "- 比较大小，把最大值存入变量c\n",
    "\n",
    "\n",
    "练习2 \n",
    "\n",
    "- a,b,c由用户输入\n",
    "- 比较大小\n"
   ]
  },
  {
   "cell_type": "code",
   "execution_count": 80,
   "metadata": {},
   "outputs": [
    {
     "name": "stdout",
     "output_type": "stream",
     "text": [
      "请输入a:22\n",
      "请输入b:11\n",
      "22\n"
     ]
    }
   ],
   "source": [
    "a = int(input(\"请输入a:\"))\n",
    "b = int(input(\"请输入b:\"))\n",
    "c = a if a>b else b\n",
    "print(c)\n"
   ]
  },
  {
   "cell_type": "code",
   "execution_count": 82,
   "metadata": {
    "scrolled": false
   },
   "outputs": [
    {
     "name": "stdout",
     "output_type": "stream",
     "text": [
      "请输入a:66\n",
      "请输入b:22\n",
      "请输入c:11\n",
      "66\n"
     ]
    }
   ],
   "source": [
    "a = int(input(\"请输入a:\"))\n",
    "b = int(input(\"请输入b:\"))\n",
    "c = int(input(\"请输入c:\"))\n",
    "# 三元运算符  陈独秀 \n",
    "d = (a if a>b else b) if (a if a>b else b) > c else c\n",
    "print(d)"
   ]
  },
  {
   "cell_type": "markdown",
   "metadata": {},
   "source": [
    "## 作业\n",
    "- 小猪佩奇\n",
    "- 研究lxml,bs4"
   ]
  }
 ],
 "metadata": {
  "kernelspec": {
   "display_name": "Python 3",
   "language": "python",
   "name": "python3"
  },
  "language_info": {
   "codemirror_mode": {
    "name": "ipython",
    "version": 3
   },
   "file_extension": ".py",
   "mimetype": "text/x-python",
   "name": "python",
   "nbconvert_exporter": "python",
   "pygments_lexer": "ipython3",
   "version": "3.6.5"
  }
 },
 "nbformat": 4,
 "nbformat_minor": 2
}
