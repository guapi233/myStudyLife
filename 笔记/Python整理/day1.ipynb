{
 "cells": [
  {
   "cell_type": "markdown",
   "metadata": {},
   "source": [
    "# 18级暑期特训营"
   ]
  },
  {
   "cell_type": "markdown",
   "metadata": {},
   "source": [
    "## Python是干什么的？\n",
    "\n",
    "### Python历史\n",
    "\n",
    "####  发明人：guido van rossum 1989 \n",
    "#### 名称：monty python 马戏团\n",
    "#### 发音：拍桑 美国  拍森 英语\n",
    "\n",
    "### Python能干啥？\n",
    "\n",
    "#### Python地位 --  Python从今年5月份成为谷歌搜索第一  \n",
    "\n",
    "#### 系统运维 \n",
    "\n",
    "自动化运维，服务器部署 ，把你的网站部署到一台服务器上，别人能访问--- git  docker(Python第一)\n",
    "\n",
    "#### 网络服务\n",
    "- 爬虫  --  web spider  百度   (Python第二)\n",
    "- 网站 python web  \n",
    "\n",
    "#### 科学计算\n",
    "物理，天文 \n",
    "- R 语言 ，SPASS语言，小数据量。(nb的JAVA无所不能，瑞士军刀，Python 斧头) 解决问题，开发效率高。(Python第一)\n",
    "\n",
    "#### 教学\n",
    "\n",
    "python简单，入门迅速  网络对比各语言的《代码量》   人生苦短-我用Python （Python第三）\n",
    "\n",
    "#### AI人工智能\n",
    "\n",
    "智能音响(采集声纹) \n",
    "\n",
    "Python第一\n",
    "\n",
    "#### 图像，游戏\n",
    "\n",
    "Python IO处理  科学计算 -- GPU \n",
    "\n",
    "### Python优点和缺点\n",
    "\n",
    "#### 优点\n",
    "\n",
    "面向对象，免费，可混合编程(多种语言一起写)  胶水语言。  \n",
    "\n",
    "#### 缺点\n",
    "\n",
    "运行速度慢 \n",
    "\n",
    "\n",
    "\n"
   ]
  },
  {
   "cell_type": "markdown",
   "metadata": {},
   "source": [
    "# Python环境\n",
    "\n",
    "## Python 版本\n",
    "\n",
    "- python 2.x \n",
    "- python 3.x  建议使用  3.6.5\n",
    "\n",
    "### IDE\n",
    "\n",
    "写代码 记事本  \n",
    "\n",
    "VScode sumblime PyCharm  \n",
    "\n",
    "### 编译器 \n",
    "控制台工具 cmder  \n",
    "\n",
    "### 确定两件事情\n",
    "\n",
    "1. 确定python版本  \n",
    "2. 确定你的包管理工具  pip  使用 pip list 确定你电脑上安装了哪些模块  \n",
    "\n",
    "### 有兴趣的的同学安装一下\n",
    "\n",
    "jupyter notebook  \n",
    "\n",
    "\n"
   ]
  },
  {
   "cell_type": "markdown",
   "metadata": {},
   "source": [
    "# Python基础"
   ]
  },
  {
   "cell_type": "markdown",
   "metadata": {},
   "source": [
    "## Hello World"
   ]
  },
  {
   "cell_type": "code",
   "execution_count": 3,
   "metadata": {},
   "outputs": [
    {
     "name": "stdout",
     "output_type": "stream",
     "text": [
      "hello world\n",
      "你好\n"
     ]
    }
   ],
   "source": [
    "print(\"hello world\")\n",
    "print(\"你好\")"
   ]
  },
  {
   "cell_type": "markdown",
   "metadata": {},
   "source": [
    "## 变量\n",
    "\n",
    "### 什么是变量   x+1 =2 \n",
    "\n",
    "变量是一段数据的别名，或者一段空间的别名 \n",
    "\n",
    "#### 硬编码  \n",
    "\n",
    "在以后大家写代码的时候，硬编码是一件非常Low  \n",
    "\n",
    "print(\"这是一段文字\")\n",
    "var msg = \"登录成功\"   \n",
    "alert(msg)    \n",
    "name = \"姓名\"   \n",
    "age = 12    \n",
    "sex = 1   \n",
    "color = \"red\"     代码可读性高\n",
    "\n",
    "#### 程序员2大烦心事\n",
    "1. 别人不写注释\n",
    "2. 让我写注释 "
   ]
  },
  {
   "cell_type": "code",
   "execution_count": 2,
   "metadata": {},
   "outputs": [
    {
     "name": "stdout",
     "output_type": "stream",
     "text": [
      "我爱北京天安门，我是网红王乔喻\n",
      "我爱北京天安门，我是网红王乔喻\n",
      "我爱北京天安门，我是网红王乔喻\n"
     ]
    }
   ],
   "source": [
    "love = \"我爱北京天安门，我是网红王乔喻\"\n",
    "print(love)\n",
    "print(love)\n",
    "print(love)"
   ]
  },
  {
   "cell_type": "markdown",
   "metadata": {},
   "source": [
    "## 变量的命名规则\n",
    "\n",
    "1. 以字母，下划线开头，可以包含数字，字母，下划线。\n",
    "2. 不要用Python内置的关键字和保留字  \n",
    "   def class if while  保留字 和 关键字的区别  关键字是Python已经在使用的单词，保留字，Python给自己预留了一些单词。\n",
    "3. 区分大小写  me和ME \n",
    "\n",
    "### 如何命名一个变量\n",
    "   - 见词达义  name myname age fruit apples compter_name 以后争取好的程序其实不需要注释\n",
    "   - 不要使用拼音，汉字(易语言)，不要使用中英混拼 wodename  pgname  写的代码是写给世界 i,m,n,k\n",
    "   - 驼峰命名法  getName  用在变量上面  myLove myName myAge  myBrotherName\n",
    "   - 大驼峰  GetName  用在函数或者类名称   def Add():   class Math():\n",
    "   - posix 单词之间用  get_name_age \n",
    "   \n",
    "#### 要求  ：你别用乱了  getName get_age  \n",
    "\n",
    "\n",
    "   "
   ]
  },
  {
   "cell_type": "markdown",
   "metadata": {},
   "source": [
    "# 数字常量\n",
    "\n",
    "## 整型  \n",
    "\n",
    "1,0,1000,299,999  :  JAVA 长整型，短整型\n",
    "\n",
    "## 浮点型\n",
    "\n",
    "3.0，3.14,2.78,科学计数法 10为底数   3.13e10  \n",
    "\n",
    "## 复数\n",
    "\n",
    "由实部和虚部组成的数  {需要有印象}\n",
    "百度的时候蒙掉  \n",
    "\n",
    "## 十进制\n",
    "\n",
    "## 二进制\n",
    "    \n",
    "      a =  Ob101   --- 练习  bin()\n",
    "\n",
    "## 八进制\n",
    "    \n",
    "      a = 0o17    -- oct()\n",
    "\n",
    "## 十六进制\n",
    "    \n",
    "      a = 0x16EE   0~9 ABCDEF   ---hex()"
   ]
  },
  {
   "cell_type": "code",
   "execution_count": 6,
   "metadata": {},
   "outputs": [
    {
     "name": "stdout",
     "output_type": "stream",
     "text": [
      "0.0313\n"
     ]
    }
   ],
   "source": [
    "a = 3.13e-2\n",
    "print(a)"
   ]
  },
  {
   "cell_type": "code",
   "execution_count": 7,
   "metadata": {
    "scrolled": true
   },
   "outputs": [
    {
     "name": "stdout",
     "output_type": "stream",
     "text": [
      "(3.1+2.1j)\n"
     ]
    }
   ],
   "source": [
    "a = 3.1+2.1j\n",
    "print(a)"
   ]
  },
  {
   "cell_type": "code",
   "execution_count": 10,
   "metadata": {},
   "outputs": [
    {
     "name": "stdout",
     "output_type": "stream",
     "text": [
      "5870\n"
     ]
    }
   ],
   "source": [
    "a = 0b101\n",
    "b = 0o17\n",
    "c = 0x16EE\n",
    "print(c)\n"
   ]
  },
  {
   "cell_type": "markdown",
   "metadata": {},
   "source": [
    "# 第一天练习\n",
    "\n",
    "1. 安装jupyter notebook \n",
    "2. 了解基本的markdown语法，程序猿通过的交流语言,git。\n",
    "3. 了解三个函数bin  oct hex 函数  \n",
    "4. 安装一下pycharm \n",
    "5. 扩展任务，尝试用pip安装一个requerts模块，然后下载一张图片到本地，需要5~7行代码。"
   ]
  }
 ],
 "metadata": {
  "kernelspec": {
   "display_name": "Python 3",
   "language": "python",
   "name": "python3"
  },
  "language_info": {
   "codemirror_mode": {
    "name": "ipython",
    "version": 3
   },
   "file_extension": ".py",
   "mimetype": "text/x-python",
   "name": "python",
   "nbconvert_exporter": "python",
   "pygments_lexer": "ipython3",
   "version": "3.6.5"
  }
 },
 "nbformat": 4,
 "nbformat_minor": 2
}
